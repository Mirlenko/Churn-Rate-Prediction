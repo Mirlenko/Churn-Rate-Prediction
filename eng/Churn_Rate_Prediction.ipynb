{
 "cells": [
  {
   "cell_type": "markdown",
   "metadata": {},
   "source": [
    "# Churn Rate Prediction"
   ]
  },
  {
   "cell_type": "code",
   "execution_count": 1,
   "metadata": {},
   "outputs": [],
   "source": [
    "import numpy as np\n",
    "import pandas as pd\n",
    "import gc\n",
    "\n",
    "import matplotlib.pyplot as plt\n",
    "\n",
    "import warnings\n",
    "warnings.filterwarnings('ignore')"
   ]
  },
  {
   "cell_type": "markdown",
   "metadata": {},
   "source": [
    "## 1. Explaratory Data Analysis"
   ]
  },
  {
   "cell_type": "markdown",
   "metadata": {},
   "source": [
    "### 1.1. Data Reading"
   ]
  },
  {
   "cell_type": "code",
   "execution_count": 2,
   "metadata": {},
   "outputs": [],
   "source": [
    "train = pd.read_csv('orange_small_churn_data.txt')\n",
    "labels = pd.read_csv('orange_small_churn_labels.txt', header = None, names = ['churn'])"
   ]
  },
  {
   "cell_type": "code",
   "execution_count": 3,
   "metadata": {},
   "outputs": [
    {
     "name": "stdout",
     "output_type": "stream",
     "text": [
      "<class 'pandas.core.frame.DataFrame'>\n",
      "RangeIndex: 40000 entries, 0 to 39999\n",
      "Columns: 230 entries, Var1 to Var230\n",
      "dtypes: float64(191), int64(1), object(38)\n",
      "memory usage: 70.2+ MB\n"
     ]
    }
   ],
   "source": [
    "train.info()"
   ]
  },
  {
   "cell_type": "code",
   "execution_count": 4,
   "metadata": {},
   "outputs": [
    {
     "data": {
      "text/html": [
       "<div>\n",
       "<style scoped>\n",
       "    .dataframe tbody tr th:only-of-type {\n",
       "        vertical-align: middle;\n",
       "    }\n",
       "\n",
       "    .dataframe tbody tr th {\n",
       "        vertical-align: top;\n",
       "    }\n",
       "\n",
       "    .dataframe thead th {\n",
       "        text-align: right;\n",
       "    }\n",
       "</style>\n",
       "<table border=\"1\" class=\"dataframe\">\n",
       "  <thead>\n",
       "    <tr style=\"text-align: right;\">\n",
       "      <th></th>\n",
       "      <th>churn</th>\n",
       "    </tr>\n",
       "  </thead>\n",
       "  <tbody>\n",
       "    <tr>\n",
       "      <th>0</th>\n",
       "      <td>-1</td>\n",
       "    </tr>\n",
       "    <tr>\n",
       "      <th>1</th>\n",
       "      <td>-1</td>\n",
       "    </tr>\n",
       "    <tr>\n",
       "      <th>2</th>\n",
       "      <td>-1</td>\n",
       "    </tr>\n",
       "    <tr>\n",
       "      <th>3</th>\n",
       "      <td>1</td>\n",
       "    </tr>\n",
       "    <tr>\n",
       "      <th>4</th>\n",
       "      <td>-1</td>\n",
       "    </tr>\n",
       "    <tr>\n",
       "      <th>...</th>\n",
       "      <td>...</td>\n",
       "    </tr>\n",
       "    <tr>\n",
       "      <th>39995</th>\n",
       "      <td>-1</td>\n",
       "    </tr>\n",
       "    <tr>\n",
       "      <th>39996</th>\n",
       "      <td>-1</td>\n",
       "    </tr>\n",
       "    <tr>\n",
       "      <th>39997</th>\n",
       "      <td>-1</td>\n",
       "    </tr>\n",
       "    <tr>\n",
       "      <th>39998</th>\n",
       "      <td>-1</td>\n",
       "    </tr>\n",
       "    <tr>\n",
       "      <th>39999</th>\n",
       "      <td>-1</td>\n",
       "    </tr>\n",
       "  </tbody>\n",
       "</table>\n",
       "<p>40000 rows × 1 columns</p>\n",
       "</div>"
      ],
      "text/plain": [
       "       churn\n",
       "0         -1\n",
       "1         -1\n",
       "2         -1\n",
       "3          1\n",
       "4         -1\n",
       "...      ...\n",
       "39995     -1\n",
       "39996     -1\n",
       "39997     -1\n",
       "39998     -1\n",
       "39999     -1\n",
       "\n",
       "[40000 rows x 1 columns]"
      ]
     },
     "execution_count": 4,
     "metadata": {},
     "output_type": "execute_result"
    }
   ],
   "source": [
    "labels"
   ]
  },
  {
   "cell_type": "code",
   "execution_count": 5,
   "metadata": {},
   "outputs": [],
   "source": [
    "labels.loc[labels.churn == -1, 'churn'] = 0"
   ]
  },
  {
   "cell_type": "code",
   "execution_count": 6,
   "metadata": {},
   "outputs": [],
   "source": [
    "data = pd.concat([train, labels], axis = 1)"
   ]
  },
  {
   "cell_type": "code",
   "execution_count": 7,
   "metadata": {},
   "outputs": [
    {
     "data": {
      "text/plain": [
       "0    37024\n",
       "1     2976\n",
       "Name: churn, dtype: int64"
      ]
     },
     "execution_count": 7,
     "metadata": {},
     "output_type": "execute_result"
    }
   ],
   "source": [
    "labels.churn.value_counts()"
   ]
  },
  {
   "cell_type": "markdown",
   "metadata": {},
   "source": [
    "Calculating the classes weights:"
   ]
  },
  {
   "cell_type": "code",
   "execution_count": 8,
   "metadata": {},
   "outputs": [
    {
     "name": "stdout",
     "output_type": "stream",
     "text": [
      "Churn (1) class share: churn    0.0744\n",
      "dtype: float64\n",
      "Non-churn (0) class share: churn    0.9256\n",
      "dtype: float64\n"
     ]
    }
   ],
   "source": [
    "print('Churn (1) class share:', labels[labels.churn == 1].count() / labels.shape[0])\n",
    "print('Non-churn (0) class share:', labels[labels.churn == 0].count() / labels.shape[0])"
   ]
  },
  {
   "cell_type": "code",
   "execution_count": 9,
   "metadata": {},
   "outputs": [],
   "source": [
    "features_num = train.columns[0:190].tolist()\n",
    "features_cat = train.columns[190:230].tolist()"
   ]
  },
  {
   "cell_type": "code",
   "execution_count": 10,
   "metadata": {},
   "outputs": [],
   "source": [
    "train[features_cat] = train[features_cat].astype(object)"
   ]
  },
  {
   "cell_type": "markdown",
   "metadata": {},
   "source": [
    "### 1.1 Numerical Features Correlations Calculating"
   ]
  },
  {
   "cell_type": "markdown",
   "metadata": {},
   "source": [
    "Calculating the Spearman's correlation in order to determine the correlation between numerical features and the target function."
   ]
  },
  {
   "cell_type": "code",
   "execution_count": 11,
   "metadata": {},
   "outputs": [
    {
     "data": {
      "text/plain": [
       "Var53     0.119918\n",
       "Var3      0.095864\n",
       "Var188    0.095375\n",
       "Var129    0.086110\n",
       "Var41     0.067387\n",
       "Var126    0.066427\n",
       "Var19     0.065095\n",
       "Var156    0.064839\n",
       "Var66     0.064839\n",
       "Var183    0.064685\n",
       "dtype: float64"
      ]
     },
     "execution_count": 11,
     "metadata": {},
     "output_type": "execute_result"
    }
   ],
   "source": [
    "data[features_num].corrwith(other = data.churn, method = 'spearman').sort_values(ascending = False).head(10)"
   ]
  },
  {
   "cell_type": "markdown",
   "metadata": {},
   "source": [
    "Correlation between the numerical values (top-20):"
   ]
  },
  {
   "cell_type": "code",
   "execution_count": 12,
   "metadata": {},
   "outputs": [
    {
     "data": {
      "text/html": [
       "<div>\n",
       "<style scoped>\n",
       "    .dataframe tbody tr th:only-of-type {\n",
       "        vertical-align: middle;\n",
       "    }\n",
       "\n",
       "    .dataframe tbody tr th {\n",
       "        vertical-align: top;\n",
       "    }\n",
       "\n",
       "    .dataframe thead th {\n",
       "        text-align: right;\n",
       "    }\n",
       "</style>\n",
       "<table border=\"1\" class=\"dataframe\">\n",
       "  <thead>\n",
       "    <tr style=\"text-align: right;\">\n",
       "      <th></th>\n",
       "      <th>Var1</th>\n",
       "      <th>Var63</th>\n",
       "      <th>Var41</th>\n",
       "      <th>Var66</th>\n",
       "      <th>Var156</th>\n",
       "      <th>Var9</th>\n",
       "      <th>Var180</th>\n",
       "      <th>Var154</th>\n",
       "      <th>Var12</th>\n",
       "      <th>Var187</th>\n",
       "    </tr>\n",
       "  </thead>\n",
       "  <tbody>\n",
       "    <tr>\n",
       "      <th>Var1</th>\n",
       "      <td>1.000000</td>\n",
       "      <td>0.694561</td>\n",
       "      <td>0.684517</td>\n",
       "      <td>0.652416</td>\n",
       "      <td>0.652416</td>\n",
       "      <td>0.652027</td>\n",
       "      <td>0.575860</td>\n",
       "      <td>0.564477</td>\n",
       "      <td>0.506863</td>\n",
       "      <td>0.457520</td>\n",
       "    </tr>\n",
       "    <tr>\n",
       "      <th>Var63</th>\n",
       "      <td>0.694561</td>\n",
       "      <td>1.000000</td>\n",
       "      <td>0.600786</td>\n",
       "      <td>0.879734</td>\n",
       "      <td>0.879734</td>\n",
       "      <td>0.879645</td>\n",
       "      <td>0.534094</td>\n",
       "      <td>0.417977</td>\n",
       "      <td>0.663473</td>\n",
       "      <td>0.655468</td>\n",
       "    </tr>\n",
       "    <tr>\n",
       "      <th>Var41</th>\n",
       "      <td>0.684517</td>\n",
       "      <td>0.600786</td>\n",
       "      <td>1.000000</td>\n",
       "      <td>0.730939</td>\n",
       "      <td>0.730939</td>\n",
       "      <td>0.730965</td>\n",
       "      <td>0.700442</td>\n",
       "      <td>0.863676</td>\n",
       "      <td>0.417042</td>\n",
       "      <td>0.558883</td>\n",
       "    </tr>\n",
       "    <tr>\n",
       "      <th>Var66</th>\n",
       "      <td>0.652416</td>\n",
       "      <td>0.879734</td>\n",
       "      <td>0.730939</td>\n",
       "      <td>1.000000</td>\n",
       "      <td>1.000000</td>\n",
       "      <td>0.999961</td>\n",
       "      <td>0.616162</td>\n",
       "      <td>0.518679</td>\n",
       "      <td>0.595911</td>\n",
       "      <td>0.851054</td>\n",
       "    </tr>\n",
       "    <tr>\n",
       "      <th>Var156</th>\n",
       "      <td>0.652416</td>\n",
       "      <td>0.879734</td>\n",
       "      <td>0.730939</td>\n",
       "      <td>1.000000</td>\n",
       "      <td>1.000000</td>\n",
       "      <td>0.999961</td>\n",
       "      <td>0.616162</td>\n",
       "      <td>0.518679</td>\n",
       "      <td>0.595911</td>\n",
       "      <td>0.851054</td>\n",
       "    </tr>\n",
       "    <tr>\n",
       "      <th>Var9</th>\n",
       "      <td>0.652027</td>\n",
       "      <td>0.879645</td>\n",
       "      <td>0.730965</td>\n",
       "      <td>0.999961</td>\n",
       "      <td>0.999961</td>\n",
       "      <td>1.000000</td>\n",
       "      <td>0.616124</td>\n",
       "      <td>0.520706</td>\n",
       "      <td>0.596957</td>\n",
       "      <td>0.851479</td>\n",
       "    </tr>\n",
       "    <tr>\n",
       "      <th>Var180</th>\n",
       "      <td>0.575860</td>\n",
       "      <td>0.534094</td>\n",
       "      <td>0.700442</td>\n",
       "      <td>0.616162</td>\n",
       "      <td>0.616162</td>\n",
       "      <td>0.616124</td>\n",
       "      <td>1.000000</td>\n",
       "      <td>0.780158</td>\n",
       "      <td>0.445697</td>\n",
       "      <td>0.523483</td>\n",
       "    </tr>\n",
       "    <tr>\n",
       "      <th>Var154</th>\n",
       "      <td>0.564477</td>\n",
       "      <td>0.417977</td>\n",
       "      <td>0.863676</td>\n",
       "      <td>0.518679</td>\n",
       "      <td>0.518679</td>\n",
       "      <td>0.520706</td>\n",
       "      <td>0.780158</td>\n",
       "      <td>1.000000</td>\n",
       "      <td>0.270026</td>\n",
       "      <td>0.361879</td>\n",
       "    </tr>\n",
       "    <tr>\n",
       "      <th>Var12</th>\n",
       "      <td>0.506863</td>\n",
       "      <td>0.663473</td>\n",
       "      <td>0.417042</td>\n",
       "      <td>0.595911</td>\n",
       "      <td>0.595911</td>\n",
       "      <td>0.596957</td>\n",
       "      <td>0.445697</td>\n",
       "      <td>0.270026</td>\n",
       "      <td>1.000000</td>\n",
       "      <td>0.429917</td>\n",
       "    </tr>\n",
       "    <tr>\n",
       "      <th>Var187</th>\n",
       "      <td>0.457520</td>\n",
       "      <td>0.655468</td>\n",
       "      <td>0.558883</td>\n",
       "      <td>0.851054</td>\n",
       "      <td>0.851054</td>\n",
       "      <td>0.851479</td>\n",
       "      <td>0.523483</td>\n",
       "      <td>0.361879</td>\n",
       "      <td>0.429917</td>\n",
       "      <td>1.000000</td>\n",
       "    </tr>\n",
       "  </tbody>\n",
       "</table>\n",
       "</div>"
      ],
      "text/plain": [
       "            Var1     Var63     Var41     Var66    Var156      Var9    Var180  \\\n",
       "Var1    1.000000  0.694561  0.684517  0.652416  0.652416  0.652027  0.575860   \n",
       "Var63   0.694561  1.000000  0.600786  0.879734  0.879734  0.879645  0.534094   \n",
       "Var41   0.684517  0.600786  1.000000  0.730939  0.730939  0.730965  0.700442   \n",
       "Var66   0.652416  0.879734  0.730939  1.000000  1.000000  0.999961  0.616162   \n",
       "Var156  0.652416  0.879734  0.730939  1.000000  1.000000  0.999961  0.616162   \n",
       "Var9    0.652027  0.879645  0.730965  0.999961  0.999961  1.000000  0.616124   \n",
       "Var180  0.575860  0.534094  0.700442  0.616162  0.616162  0.616124  1.000000   \n",
       "Var154  0.564477  0.417977  0.863676  0.518679  0.518679  0.520706  0.780158   \n",
       "Var12   0.506863  0.663473  0.417042  0.595911  0.595911  0.596957  0.445697   \n",
       "Var187  0.457520  0.655468  0.558883  0.851054  0.851054  0.851479  0.523483   \n",
       "\n",
       "          Var154     Var12    Var187  \n",
       "Var1    0.564477  0.506863  0.457520  \n",
       "Var63   0.417977  0.663473  0.655468  \n",
       "Var41   0.863676  0.417042  0.558883  \n",
       "Var66   0.518679  0.595911  0.851054  \n",
       "Var156  0.518679  0.595911  0.851054  \n",
       "Var9    0.520706  0.596957  0.851479  \n",
       "Var180  0.780158  0.445697  0.523483  \n",
       "Var154  1.000000  0.270026  0.361879  \n",
       "Var12   0.270026  1.000000  0.429917  \n",
       "Var187  0.361879  0.429917  1.000000  "
      ]
     },
     "execution_count": 12,
     "metadata": {},
     "output_type": "execute_result"
    }
   ],
   "source": [
    "num_corr = data[features_num].corr(method = 'spearman').sort_values('Var1', ascending = False, axis = 0)\\\n",
    ".sort_values('Var1', ascending = False, axis = 1).iloc[:10, :10]\n",
    "\n",
    "num_corr"
   ]
  },
  {
   "cell_type": "markdown",
   "metadata": {},
   "source": [
    "Visualizing the top-20 correlated numerical features."
   ]
  },
  {
   "cell_type": "code",
   "execution_count": 13,
   "metadata": {},
   "outputs": [],
   "source": [
    "import seaborn as sns"
   ]
  },
  {
   "cell_type": "code",
   "execution_count": 14,
   "metadata": {},
   "outputs": [
    {
     "data": {
      "image/png": "[encoded data removed]",
      "text/plain": [
       "<Figure size 1080x1080 with 2 Axes>"
      ]
     },
     "metadata": {
      "needs_background": "light"
     },
     "output_type": "display_data"
    },
    {
     "name": "stdout",
     "output_type": "stream",
     "text": [
      "Wall time: 520 ms\n"
     ]
    }
   ],
   "source": [
    "%%time\n",
    "\n",
    "sns.heatmap(num_corr, annot = True, cmap = 'GnBu', linewidths = .2, square = True, fmt = '.1f', cbar_kws = {'shrink':.5})\n",
    "fig = plt.gcf()\n",
    "fig.set_size_inches(15,15)\n",
    "plt.show()"
   ]
  },
  {
   "cell_type": "markdown",
   "metadata": {},
   "source": [
    "### 1.3 Categorical Features Correlation Calculating"
   ]
  },
  {
   "cell_type": "code",
   "execution_count": 15,
   "metadata": {},
   "outputs": [],
   "source": [
    "from scipy.stats import chi2_contingency"
   ]
  },
  {
   "cell_type": "code",
   "execution_count": 16,
   "metadata": {},
   "outputs": [],
   "source": [
    "# function, Calculating the Cramer's coefficient\n",
    "def cramer(x, y):\n",
    "    confusion_matrix = pd.crosstab(x,y)\n",
    "    chi2 = chi2_contingency(confusion_matrix)[0]\n",
    "    n = confusion_matrix.sum().sum()\n",
    "    phi2 = chi2/n\n",
    "    r,k = confusion_matrix.shape\n",
    "    phi2corr = max(0, phi2-((k-1)*(r-1))/(n-1))\n",
    "    rcorr = r-((r-1)**2)/(n-1)\n",
    "    kcorr = k-((k-1)**2)/(n-1)\n",
    "    return np.sqrt(phi2corr/min((kcorr-1),(rcorr-1)))"
   ]
  },
  {
   "cell_type": "code",
   "execution_count": 17,
   "metadata": {},
   "outputs": [
    {
     "data": {
      "text/html": [
       "<div>\n",
       "<style scoped>\n",
       "    .dataframe tbody tr th:only-of-type {\n",
       "        vertical-align: middle;\n",
       "    }\n",
       "\n",
       "    .dataframe tbody tr th {\n",
       "        vertical-align: top;\n",
       "    }\n",
       "\n",
       "    .dataframe thead th {\n",
       "        text-align: right;\n",
       "    }\n",
       "</style>\n",
       "<table border=\"1\" class=\"dataframe\">\n",
       "  <thead>\n",
       "    <tr style=\"text-align: right;\">\n",
       "      <th></th>\n",
       "      <th>cramer</th>\n",
       "    </tr>\n",
       "    <tr>\n",
       "      <th>feature</th>\n",
       "      <th></th>\n",
       "    </tr>\n",
       "  </thead>\n",
       "  <tbody>\n",
       "    <tr>\n",
       "      <th>Var199</th>\n",
       "      <td>0.237375</td>\n",
       "    </tr>\n",
       "    <tr>\n",
       "      <th>Var192</th>\n",
       "      <td>0.116264</td>\n",
       "    </tr>\n",
       "    <tr>\n",
       "      <th>Var216</th>\n",
       "      <td>0.083442</td>\n",
       "    </tr>\n",
       "    <tr>\n",
       "      <th>Var206</th>\n",
       "      <td>0.077436</td>\n",
       "    </tr>\n",
       "    <tr>\n",
       "      <th>Var212</th>\n",
       "      <td>0.075150</td>\n",
       "    </tr>\n",
       "    <tr>\n",
       "      <th>Var205</th>\n",
       "      <td>0.073484</td>\n",
       "    </tr>\n",
       "    <tr>\n",
       "      <th>Var228</th>\n",
       "      <td>0.070617</td>\n",
       "    </tr>\n",
       "    <tr>\n",
       "      <th>Var193</th>\n",
       "      <td>0.060861</td>\n",
       "    </tr>\n",
       "    <tr>\n",
       "      <th>Var207</th>\n",
       "      <td>0.055418</td>\n",
       "    </tr>\n",
       "    <tr>\n",
       "      <th>Var227</th>\n",
       "      <td>0.054255</td>\n",
       "    </tr>\n",
       "  </tbody>\n",
       "</table>\n",
       "</div>"
      ],
      "text/plain": [
       "           cramer\n",
       "feature          \n",
       "Var199   0.237375\n",
       "Var192   0.116264\n",
       "Var216   0.083442\n",
       "Var206   0.077436\n",
       "Var212   0.075150\n",
       "Var205   0.073484\n",
       "Var228   0.070617\n",
       "Var193   0.060861\n",
       "Var207   0.055418\n",
       "Var227   0.054255"
      ]
     },
     "execution_count": 17,
     "metadata": {},
     "output_type": "execute_result"
    }
   ],
   "source": [
    "# calling the 'cramer' function\n",
    "data_cat = train[features_cat]\n",
    "cramers = []\n",
    "\n",
    "for col in features_cat:\n",
    "    if data_cat[col].isnull().sum() != len(data_cat): # if not nan\n",
    "        cramers.append(cramer(data_cat[col], labels['churn']))\n",
    "    else:\n",
    "        cramers.append(np.nan)\n",
    "        \n",
    "cat_corr = pd.DataFrame(zip(features_cat, cramers), columns = ['feature', 'cramer'])\n",
    "cat_corr.set_index('feature', inplace = True)\n",
    "cat_corr.sort_values(by = 'cramer', inplace = True, ascending = False)  \n",
    "cat_corr.dropna(inplace = True)\n",
    "cat_corr.head(10)"
   ]
  },
  {
   "cell_type": "markdown",
   "metadata": {},
   "source": [
    "### 1.4 Plotting the dependency between train sample size and base score using `learning_curve`"
   ]
  },
  {
   "cell_type": "code",
   "execution_count": 18,
   "metadata": {},
   "outputs": [],
   "source": [
    "from sklearn.model_selection import learning_curve, cross_val_score, StratifiedKFold\n",
    "from xgboost import XGBClassifier"
   ]
  },
  {
   "cell_type": "code",
   "execution_count": 19,
   "metadata": {},
   "outputs": [],
   "source": [
    "X = train[features_num].copy()\n",
    "X = X.fillna(X.mean())\n",
    "X = X.dropna(axis=1,how='all')\n",
    "X = pd.DataFrame(X)\n",
    "\n",
    "y = labels['churn']"
   ]
  },
  {
   "cell_type": "markdown",
   "metadata": {},
   "source": [
    "Using `learning_curve` from `scikit-learn`, the train dataset shape and train score dependency is plotted."
   ]
  },
  {
   "cell_type": "code",
   "execution_count": 20,
   "metadata": {},
   "outputs": [
    {
     "data": {
      "image/png": "[encoded data removed]",
      "text/plain": [
       "<Figure size 864x432 with 1 Axes>"
      ]
     },
     "metadata": {
      "needs_background": "light"
     },
     "output_type": "display_data"
    }
   ],
   "source": [
    "clf = XGBClassifier()\n",
    "train_sizes, train_scores, test_scores = learning_curve(clf, X, y, cv=3, scoring='roc_auc', train_sizes=[0.2, 0.4, 0.6, 0.8, 1])\n",
    "plt.figure(figsize=(12,6))\n",
    "plt.plot(train_sizes, train_scores.mean(axis=1), label='Training sample')\n",
    "plt.plot(train_sizes, test_scores.mean(axis=1), label='Test sample')\n",
    "plt.xlabel('Sample size')\n",
    "plt.ylabel('ROC AUC')\n",
    "plt.legend()\n",
    "plt.grid()\n",
    "plt.show()"
   ]
  },
  {
   "cell_type": "markdown",
   "metadata": {},
   "source": [
    "As it can be seen from the plot, the quality rise is insignificant."
   ]
  },
  {
   "cell_type": "code",
   "execution_count": 21,
   "metadata": {},
   "outputs": [
    {
     "data": {
      "text/plain": [
       "2904"
      ]
     },
     "execution_count": 21,
     "metadata": {},
     "output_type": "execute_result"
    }
   ],
   "source": [
    "del(data)\n",
    "gc.collect()"
   ]
  },
  {
   "cell_type": "markdown",
   "metadata": {},
   "source": [
    "## 2. Feature Engineering"
   ]
  },
  {
   "cell_type": "markdown",
   "metadata": {},
   "source": [
    "The model score at each experiment is evaluated using F1 and ROC-AUC scores, as this scorers are useful for imbalanced classes.\n",
    "\n",
    "As the classifier, `XGBoost` algorithm is used."
   ]
  },
  {
   "cell_type": "code",
   "execution_count": 22,
   "metadata": {},
   "outputs": [],
   "source": [
    "# function calculating score at cross validation\n",
    "def cv_score(clf, X, y, scoring):\n",
    "    return cross_val_score(clf, X, y, cv = StratifiedKFold(), scoring = scoring, n_jobs = -1).mean()"
   ]
  },
  {
   "cell_type": "markdown",
   "metadata": {},
   "source": [
    "### 2.1. Choosing the null values threshold"
   ]
  },
  {
   "cell_type": "code",
   "execution_count": 23,
   "metadata": {},
   "outputs": [],
   "source": [
    "feat_thr = []\n",
    "for threshold in range(0, 40000, 1000):\n",
    "    feat_thr.append(train.loc[:, train.isna().sum() > threshold].shape[1])"
   ]
  },
  {
   "cell_type": "code",
   "execution_count": 24,
   "metadata": {},
   "outputs": [
    {
     "data": {
      "image/png": "[encoded data removed]",
      "text/plain": [
       "<Figure size 792x576 with 1 Axes>"
      ]
     },
     "metadata": {
      "needs_background": "light"
     },
     "output_type": "display_data"
    }
   ],
   "source": [
    "plt.figure(figsize = (11,8))\n",
    "plt.plot(range(0,40000,1000), feat_thr)\n",
    "plt.xlabel('threshold')\n",
    "plt.ylabel('features')\n",
    "plt.axvline(20000, color = 'red', ls = '-.', alpha = 0.7)\n",
    "plt.grid()\n",
    "plt.show()"
   ]
  },
  {
   "cell_type": "markdown",
   "metadata": {},
   "source": [
    "The threshold value of 20,000 seems reasonable."
   ]
  },
  {
   "cell_type": "markdown",
   "metadata": {},
   "source": [
    "### 2.2. Numerical features handling techniques"
   ]
  },
  {
   "cell_type": "code",
   "execution_count": 25,
   "metadata": {},
   "outputs": [],
   "source": [
    "from sklearn.preprocessing import StandardScaler"
   ]
  },
  {
   "cell_type": "code",
   "execution_count": 26,
   "metadata": {},
   "outputs": [],
   "source": [
    "# function filling na with 'fill' parameter\n",
    "def fill_real(fill, X, returning=False):\n",
    "    X = X.fillna(fill)    \n",
    "    \n",
    "    # using Standard Scaler\n",
    "    X = pd.DataFrame(StandardScaler().fit_transform(X))\n",
    "    \n",
    "    print('ROC-AUC:', cv_score(clf, X, y, 'roc_auc'))\n",
    "    print('F1-score:', cv_score(clf, X, y, 'f1'))\n",
    "    \n",
    "    if returning:\n",
    "        return X"
   ]
  },
  {
   "cell_type": "code",
   "execution_count": 27,
   "metadata": {},
   "outputs": [],
   "source": [
    "X = train[features_num].dropna(axis=1,how='all')\n",
    "\n",
    "# removing columns with more than 20000 null features\n",
    "X = X.loc[:, X.isna().sum() < 20000]\n",
    "\n",
    "y = labels['churn']"
   ]
  },
  {
   "cell_type": "code",
   "execution_count": 28,
   "metadata": {
    "scrolled": true
   },
   "outputs": [
    {
     "name": "stdout",
     "output_type": "stream",
     "text": [
      "ROC-AUC: 0.6759709763811387\n",
      "F1-score: 0.04029513600959615\n"
     ]
    }
   ],
   "source": [
    "fill_real(0, X)"
   ]
  },
  {
   "cell_type": "code",
   "execution_count": 29,
   "metadata": {},
   "outputs": [
    {
     "name": "stdout",
     "output_type": "stream",
     "text": [
      "ROC-AUC: 0.6749908333822341\n",
      "F1-score: 0.042500745036642876\n"
     ]
    }
   ],
   "source": [
    "fill_real(X.mean(), X)"
   ]
  },
  {
   "cell_type": "code",
   "execution_count": 30,
   "metadata": {},
   "outputs": [
    {
     "name": "stdout",
     "output_type": "stream",
     "text": [
      "ROC-AUC: 0.6633859557396299\n",
      "F1-score: 0.04159673569902448\n"
     ]
    }
   ],
   "source": [
    "fill_real(X.median(), X)"
   ]
  },
  {
   "cell_type": "markdown",
   "metadata": {},
   "source": [
    "Filling NA with mean values shows the best trade-off between ROC-AUC and F1 score."
   ]
  },
  {
   "cell_type": "code",
   "execution_count": 31,
   "metadata": {},
   "outputs": [
    {
     "name": "stdout",
     "output_type": "stream",
     "text": [
      "ROC-AUC: 0.6749908333822341\n",
      "F1-score: 0.042500745036642876\n"
     ]
    }
   ],
   "source": [
    "X_num = fill_real(X.mean(), X, True)"
   ]
  },
  {
   "cell_type": "markdown",
   "metadata": {},
   "source": [
    "### 2.3. Categorical features handling techniques"
   ]
  },
  {
   "cell_type": "code",
   "execution_count": 32,
   "metadata": {},
   "outputs": [],
   "source": [
    "from sklearn.preprocessing import OneHotEncoder"
   ]
  },
  {
   "cell_type": "code",
   "execution_count": 33,
   "metadata": {},
   "outputs": [],
   "source": [
    "# dropping all zero columns\n",
    "X = train[features_cat].dropna(axis=1,how='all')\n",
    "\n",
    "# removing columns with more than 20000 null features\n",
    "X = X.loc[:, X.isna().sum() < 20000]\n",
    "\n",
    "# filling NA with 'NULL'\n",
    "X.fillna('NULL', inplace = True)"
   ]
  },
  {
   "cell_type": "markdown",
   "metadata": {},
   "source": [
    "Applying OneHotEncoder technique to encode the categorical values:"
   ]
  },
  {
   "cell_type": "code",
   "execution_count": 34,
   "metadata": {},
   "outputs": [],
   "source": [
    "X_cols_before_ohe = X.columns.tolist()"
   ]
  },
  {
   "cell_type": "code",
   "execution_count": 35,
   "metadata": {},
   "outputs": [
    {
     "name": "stdout",
     "output_type": "stream",
     "text": [
      "Wall time: 1.23 s\n"
     ]
    },
    {
     "data": {
      "text/plain": [
       "3141"
      ]
     },
     "execution_count": 35,
     "metadata": {},
     "output_type": "execute_result"
    }
   ],
   "source": [
    "%%time\n",
    "\n",
    "ohe = OneHotEncoder(sparse = False, handle_unknown = 'ignore')\n",
    "X_ohe = pd.DataFrame(ohe.fit_transform(X))\n",
    "\n",
    "del(X)\n",
    "gc.collect()"
   ]
  },
  {
   "cell_type": "markdown",
   "metadata": {},
   "source": [
    "### 2.4 Concatenating the numerical and categorical features"
   ]
  },
  {
   "cell_type": "code",
   "execution_count": 36,
   "metadata": {},
   "outputs": [
    {
     "data": {
      "text/plain": [
       "20"
      ]
     },
     "execution_count": 36,
     "metadata": {},
     "output_type": "execute_result"
    }
   ],
   "source": [
    "del([train, labels])\n",
    "gc.collect()"
   ]
  },
  {
   "cell_type": "code",
   "execution_count": 37,
   "metadata": {},
   "outputs": [],
   "source": [
    "X = pd.concat([X_num, X_ohe], axis=1)"
   ]
  },
  {
   "cell_type": "code",
   "execution_count": 38,
   "metadata": {},
   "outputs": [
    {
     "data": {
      "text/plain": [
       "40"
      ]
     },
     "execution_count": 38,
     "metadata": {},
     "output_type": "execute_result"
    }
   ],
   "source": [
    "del([X_num, X_ohe])\n",
    "gc.collect()"
   ]
  },
  {
   "cell_type": "code",
   "execution_count": 39,
   "metadata": {
    "scrolled": true
   },
   "outputs": [
    {
     "data": {
      "text/plain": [
       "(40000, 36934)"
      ]
     },
     "execution_count": 39,
     "metadata": {},
     "output_type": "execute_result"
    }
   ],
   "source": [
    "X.shape"
   ]
  },
  {
   "cell_type": "markdown",
   "metadata": {},
   "source": [
    "### 2.5 Selecting the best features"
   ]
  },
  {
   "cell_type": "code",
   "execution_count": 40,
   "metadata": {},
   "outputs": [],
   "source": [
    "from sklearn.feature_selection import SelectKBest"
   ]
  },
  {
   "cell_type": "code",
   "execution_count": 41,
   "metadata": {},
   "outputs": [
    {
     "name": "stdout",
     "output_type": "stream",
     "text": [
      "ROC-AUC: nan\n",
      "F1-score: nan\n",
      "Wall time: 7min 46s\n"
     ]
    }
   ],
   "source": [
    "%%time\n",
    "\n",
    "sel_1500 = SelectKBest(k = 1500)\n",
    "sel_1500.fit(X, y)\n",
    "\n",
    "print('ROC-AUC:', cv_score(clf, X.loc[:, sel_1500.get_support()], y, 'roc_auc'))\n",
    "print('F1-score:', cv_score(clf, X.loc[:, sel_1500.get_support()], y, 'f1'))"
   ]
  },
  {
   "cell_type": "code",
   "execution_count": 42,
   "metadata": {},
   "outputs": [
    {
     "name": "stdout",
     "output_type": "stream",
     "text": [
      "ROC-AUC: 0.7147660502393581\n",
      "F1-score: 0.0714974508413477\n",
      "Wall time: 9min 44s\n"
     ]
    }
   ],
   "source": [
    "%%time\n",
    "sel_500 = SelectKBest(k = 500)\n",
    "sel_500.fit(X, y)\n",
    "print('ROC-AUC:', cv_score(clf, X.loc[:, sel_500.get_support()], y, 'roc_auc'))\n",
    "print('F1-score:', cv_score(clf, X.loc[:, sel_500.get_support()], y, 'f1'))"
   ]
  },
  {
   "cell_type": "markdown",
   "metadata": {},
   "source": [
    "As the result shows, only 500 best parameters can be kept for future use."
   ]
  },
  {
   "cell_type": "code",
   "execution_count": 43,
   "metadata": {
    "scrolled": true
   },
   "outputs": [],
   "source": [
    "X = X.loc[:, sel_500.get_support()]"
   ]
  },
  {
   "cell_type": "markdown",
   "metadata": {},
   "source": [
    "## 3\\. Dataset Handling (classes weights, oversampling)"
   ]
  },
  {
   "cell_type": "markdown",
   "metadata": {},
   "source": [
    "### 3.1. Setting the objects weights, so that the classes ratio is taken into account"
   ]
  },
  {
   "cell_type": "code",
   "execution_count": 44,
   "metadata": {},
   "outputs": [
    {
     "name": "stdout",
     "output_type": "stream",
     "text": [
      "ROC-AUC: 0.7147660502393581\n",
      "F1-score: 0.0714974508413477\n"
     ]
    }
   ],
   "source": [
    "# basic classifier\n",
    "clf = XGBClassifier()\n",
    "print('ROC-AUC:', cv_score(clf, X, y, 'roc_auc'))\n",
    "print('F1-score:', cv_score(clf, X, y, 'f1'))"
   ]
  },
  {
   "cell_type": "code",
   "execution_count": 45,
   "metadata": {
    "scrolled": true
   },
   "outputs": [
    {
     "name": "stdout",
     "output_type": "stream",
     "text": [
      "ROC-AUC: 0.7154573845603152\n",
      "F1-score: 0.2377747195204058\n"
     ]
    }
   ],
   "source": [
    "# XGBoost with classes ratio\n",
    "clf = XGBClassifier(scale_pos_weight = 12.44)\n",
    "print('ROC-AUC:', cv_score(clf, X, y, 'roc_auc'))\n",
    "print('F1-score:', cv_score(clf, X, y, 'f1'))"
   ]
  },
  {
   "cell_type": "code",
   "execution_count": 46,
   "metadata": {},
   "outputs": [
    {
     "name": "stdout",
     "output_type": "stream",
     "text": [
      "ROC-AUC: 0.7233157300640884\n",
      "F1-score: 0.26556260074735966\n"
     ]
    }
   ],
   "source": [
    "# XGBoost with wrong classes ratio\n",
    "clf = XGBClassifier(scale_pos_weight = 6.22)\n",
    "print('ROC-AUC:', cv_score(clf, X, y, 'roc_auc'))\n",
    "print('F1-score:', cv_score(clf, X, y, 'f1'))"
   ]
  },
  {
   "cell_type": "markdown",
   "metadata": {},
   "source": [
    "Unexpectedly, the best result within the conducted experiments can be seen at `scale_pos_weight` parameter equaling 6.\n",
    "For this reason, trying to apply undersampling and oversampling technique."
   ]
  },
  {
   "cell_type": "markdown",
   "metadata": {},
   "source": [
    "### 3.2. Applying undersampling technique"
   ]
  },
  {
   "cell_type": "code",
   "execution_count": 47,
   "metadata": {
    "scrolled": true
   },
   "outputs": [
    {
     "name": "stdout",
     "output_type": "stream",
     "text": [
      "(40000, 500) (40000,)\n"
     ]
    }
   ],
   "source": [
    "print(X.shape, y.shape)"
   ]
  },
  {
   "cell_type": "code",
   "execution_count": 48,
   "metadata": {},
   "outputs": [],
   "source": [
    "from imblearn.under_sampling import RandomUnderSampler\n",
    "\n",
    "rus = RandomUnderSampler(random_state=0)\n",
    "X_rus, y_rus = rus.fit_sample(X, y)"
   ]
  },
  {
   "cell_type": "code",
   "execution_count": 49,
   "metadata": {},
   "outputs": [
    {
     "name": "stdout",
     "output_type": "stream",
     "text": [
      "(5952, 500) (5952,)\n"
     ]
    }
   ],
   "source": [
    "print(X_rus.shape, y_rus.shape)"
   ]
  },
  {
   "cell_type": "code",
   "execution_count": 50,
   "metadata": {},
   "outputs": [
    {
     "name": "stdout",
     "output_type": "stream",
     "text": [
      "ROC-AUC: 0.6999730415656196\n",
      "F1-score: 0.6379641523483495\n"
     ]
    }
   ],
   "source": [
    "clf = XGBClassifier()\n",
    "print('ROC-AUC:', cv_score(clf, X_rus, y_rus, 'roc_auc'))\n",
    "print('F1-score:', cv_score(clf, X_rus, y_rus, 'f1'))"
   ]
  },
  {
   "cell_type": "markdown",
   "metadata": {},
   "source": [
    "The undersampling slightly decreases the model score. The F1 score is higher, because now the samples are of equal size."
   ]
  },
  {
   "cell_type": "markdown",
   "metadata": {},
   "source": [
    "### 3.3. Applying oversampling technique"
   ]
  },
  {
   "cell_type": "code",
   "execution_count": 51,
   "metadata": {},
   "outputs": [],
   "source": [
    "from imblearn.over_sampling import RandomOverSampler\n",
    "\n",
    "ros = RandomOverSampler(random_state=0)\n",
    "X_ros, y_ros = ros.fit_sample(X, y)"
   ]
  },
  {
   "cell_type": "code",
   "execution_count": 52,
   "metadata": {},
   "outputs": [
    {
     "name": "stdout",
     "output_type": "stream",
     "text": [
      "(74048, 500) (74048,)\n"
     ]
    }
   ],
   "source": [
    "print(X_ros.shape, y_ros.shape)"
   ]
  },
  {
   "cell_type": "code",
   "execution_count": 53,
   "metadata": {},
   "outputs": [
    {
     "name": "stdout",
     "output_type": "stream",
     "text": [
      "ROC-AUC: 0.8670430373532619\n",
      "F1-score: 0.788075106457058\n"
     ]
    }
   ],
   "source": [
    "clf = XGBClassifier()\n",
    "print('ROC-AUC:', cv_score(clf, X_ros, y_ros, 'roc_auc'))\n",
    "print('F1-score:', cv_score(clf, X_ros, y_ros, 'f1'))"
   ]
  },
  {
   "cell_type": "markdown",
   "metadata": {},
   "source": [
    "The oversampling significantly highers both the ROC-AUC and F1 score. "
   ]
  },
  {
   "cell_type": "markdown",
   "metadata": {},
   "source": [
    "For the future operations, the oversampled data will be used."
   ]
  },
  {
   "cell_type": "code",
   "execution_count": 54,
   "metadata": {},
   "outputs": [
    {
     "data": {
      "text/plain": [
       "294"
      ]
     },
     "execution_count": 54,
     "metadata": {},
     "output_type": "execute_result"
    }
   ],
   "source": [
    "X, y = X_ros, y_ros\n",
    "\n",
    "del([X_rus, y_rus, X_ros, y_ros])\n",
    "gc.collect()"
   ]
  },
  {
   "cell_type": "markdown",
   "metadata": {},
   "source": [
    "### 3.4. Splitting the dataset"
   ]
  },
  {
   "cell_type": "code",
   "execution_count": 55,
   "metadata": {},
   "outputs": [],
   "source": [
    "from sklearn.model_selection import train_test_split\n",
    "\n",
    "X_train, X_test, y_train, y_test = train_test_split(X, y, test_size = 0.3, stratify = y)"
   ]
  },
  {
   "cell_type": "markdown",
   "metadata": {},
   "source": [
    "## 4.  Classification Model"
   ]
  },
  {
   "cell_type": "markdown",
   "metadata": {},
   "source": [
    "### 4.1. Learning Algorithm Hyperparameters Grid Search"
   ]
  },
  {
   "cell_type": "code",
   "execution_count": 56,
   "metadata": {},
   "outputs": [],
   "source": [
    "from sklearn.model_selection import GridSearchCV"
   ]
  },
  {
   "cell_type": "code",
   "execution_count": 57,
   "metadata": {},
   "outputs": [],
   "source": [
    "X = X_train.values\n",
    "y = y_train.values"
   ]
  },
  {
   "cell_type": "markdown",
   "metadata": {},
   "source": [
    "The GridSearchCV algorithm was called several times, and during the experiments the best hyperparameters values were obtained. However, I left this piece of code here just for explicity reasons."
   ]
  },
  {
   "cell_type": "code",
   "execution_count": 58,
   "metadata": {},
   "outputs": [
    {
     "name": "stdout",
     "output_type": "stream",
     "text": [
      "Best params {'learning_rate': 0.03, 'max_depth': 15, 'n_estimators': 300}\n",
      "Best score 0.9786178788723356\n",
      "Wall time: 21min 55s\n"
     ]
    }
   ],
   "source": [
    "%%time\n",
    "clf = XGBClassifier()\n",
    "\n",
    "param_grid = {'max_depth':[13, 15], 'n_estimators':[250, 300], 'learning_rate':[0.03]}\n",
    "\n",
    "xgb = GridSearchCV(clf, param_grid, scoring = 'roc_auc', cv = 3, n_jobs = -1)\n",
    "\n",
    "xgb.fit(X, y)\n",
    "\n",
    "print('Best params', xgb.best_params_)\n",
    "print('Best score', xgb.best_score_)"
   ]
  },
  {
   "cell_type": "markdown",
   "metadata": {},
   "source": [
    "As the optimal hyperparameters values were obtained, the model perforamnce can be cross-validated on test subset."
   ]
  },
  {
   "cell_type": "markdown",
   "metadata": {},
   "source": [
    "### 4.2. Cross-validation"
   ]
  },
  {
   "cell_type": "code",
   "execution_count": 64,
   "metadata": {},
   "outputs": [],
   "source": [
    "from sklearn.model_selection import cross_val_score"
   ]
  },
  {
   "cell_type": "code",
   "execution_count": 60,
   "metadata": {},
   "outputs": [
    {
     "name": "stdout",
     "output_type": "stream",
     "text": [
      "Wall time: 3min 59s\n"
     ]
    },
    {
     "data": {
      "text/plain": [
       "0.945070199480527"
      ]
     },
     "execution_count": 60,
     "metadata": {},
     "output_type": "execute_result"
    }
   ],
   "source": [
    "%%time\n",
    "cross_val_score(xgb.best_estimator_, X_test, y_test, cv = 3, n_jobs = -1, scoring = 'roc_auc').mean()"
   ]
  },
  {
   "cell_type": "code",
   "execution_count": 61,
   "metadata": {},
   "outputs": [
    {
     "name": "stdout",
     "output_type": "stream",
     "text": [
      "Wall time: 4min 2s\n"
     ]
    },
    {
     "data": {
      "text/plain": [
       "0.8855024200610727"
      ]
     },
     "execution_count": 61,
     "metadata": {},
     "output_type": "execute_result"
    }
   ],
   "source": [
    "%%time\n",
    "cross_val_score(xgb.best_estimator_, X_test, y_test, cv = 3, n_jobs = -1, scoring = 'f1').mean()"
   ]
  },
  {
   "cell_type": "markdown",
   "metadata": {},
   "source": [
    "Taking a look at feature importances - what features contributed most to the model. "
   ]
  },
  {
   "cell_type": "code",
   "execution_count": 62,
   "metadata": {},
   "outputs": [
    {
     "data": {
      "text/html": [
       "<div>\n",
       "<style scoped>\n",
       "    .dataframe tbody tr th:only-of-type {\n",
       "        vertical-align: middle;\n",
       "    }\n",
       "\n",
       "    .dataframe tbody tr th {\n",
       "        vertical-align: top;\n",
       "    }\n",
       "\n",
       "    .dataframe thead th {\n",
       "        text-align: right;\n",
       "    }\n",
       "</style>\n",
       "<table border=\"1\" class=\"dataframe\">\n",
       "  <thead>\n",
       "    <tr style=\"text-align: right;\">\n",
       "      <th></th>\n",
       "      <th>feature</th>\n",
       "      <th>weight</th>\n",
       "    </tr>\n",
       "  </thead>\n",
       "  <tbody>\n",
       "    <tr>\n",
       "      <th>129</th>\n",
       "      <td>14677</td>\n",
       "      <td>0.017423</td>\n",
       "    </tr>\n",
       "    <tr>\n",
       "      <th>168</th>\n",
       "      <td>21211</td>\n",
       "      <td>0.014054</td>\n",
       "    </tr>\n",
       "    <tr>\n",
       "      <th>9</th>\n",
       "      <td>28</td>\n",
       "      <td>0.013174</td>\n",
       "    </tr>\n",
       "    <tr>\n",
       "      <th>14</th>\n",
       "      <td>148</td>\n",
       "      <td>0.011434</td>\n",
       "    </tr>\n",
       "    <tr>\n",
       "      <th>312</th>\n",
       "      <td>29920</td>\n",
       "      <td>0.009386</td>\n",
       "    </tr>\n",
       "    <tr>\n",
       "      <th>...</th>\n",
       "      <td>...</td>\n",
       "      <td>...</td>\n",
       "    </tr>\n",
       "    <tr>\n",
       "      <th>348</th>\n",
       "      <td>31157</td>\n",
       "      <td>0.000000</td>\n",
       "    </tr>\n",
       "    <tr>\n",
       "      <th>142</th>\n",
       "      <td>15808</td>\n",
       "      <td>0.000000</td>\n",
       "    </tr>\n",
       "    <tr>\n",
       "      <th>189</th>\n",
       "      <td>26406</td>\n",
       "      <td>0.000000</td>\n",
       "    </tr>\n",
       "    <tr>\n",
       "      <th>351</th>\n",
       "      <td>31558</td>\n",
       "      <td>0.000000</td>\n",
       "    </tr>\n",
       "    <tr>\n",
       "      <th>326</th>\n",
       "      <td>30339</td>\n",
       "      <td>0.000000</td>\n",
       "    </tr>\n",
       "  </tbody>\n",
       "</table>\n",
       "<p>500 rows × 2 columns</p>\n",
       "</div>"
      ],
      "text/plain": [
       "     feature    weight\n",
       "129    14677  0.017423\n",
       "168    21211  0.014054\n",
       "9         28  0.013174\n",
       "14       148  0.011434\n",
       "312    29920  0.009386\n",
       "..       ...       ...\n",
       "348    31157  0.000000\n",
       "142    15808  0.000000\n",
       "189    26406  0.000000\n",
       "351    31558  0.000000\n",
       "326    30339  0.000000\n",
       "\n",
       "[500 rows x 2 columns]"
      ]
     },
     "execution_count": 62,
     "metadata": {},
     "output_type": "execute_result"
    }
   ],
   "source": [
    "pd.DataFrame({'feature':X_train.columns.to_list(), 'weight':xgb.best_estimator_.feature_importances_}).sort_values('weight', ascending = False)"
   ]
  },
  {
   "cell_type": "markdown",
   "metadata": {},
   "source": [
    "## Summary"
   ]
  },
  {
   "cell_type": "markdown",
   "metadata": {},
   "source": [
    "During the project, the following data processing techniques were used and tested:\n",
    "* numerical features processing (filling missing values, scaling - `StandardScaler`);\n",
    "* categorical features processing (filling missing values, encoding - `OneHotEncoder`);\n",
    "* concatenated preprocessed numerical and categorical best features selection (`SelectKBest`);\n",
    "* sampling techniques (under- and over-sampling algorithms from `imblearn` library).\n",
    "\n",
    "The model (`XGBClassifier`) optimal hyperparameters (`max_depth`, `n_estimators`, `learning_rate`) were found using Grid Search technique (`GridSearchCV`).\n",
    "\n",
    "The benchmark score was 0.9256 (the major class weight). This value was overcome at cross-validation test.\n",
    "\n",
    "The resulting score of the model built and set up is:\n",
    "* ROC-AUC: 0.945\n",
    "* F1: 0.88"
   ]
  }
 ],
 "metadata": {
  "kernelspec": {
   "display_name": "Python 3",
   "language": "python",
   "name": "python3"
  },
  "language_info": {
   "codemirror_mode": {
    "name": "ipython",
    "version": 3
   },
   "file_extension": ".py",
   "mimetype": "text/x-python",
   "name": "python",
   "nbconvert_exporter": "python",
   "pygments_lexer": "ipython3",
   "version": "3.8.3"
  }
 },
 "nbformat": 4,
 "nbformat_minor": 1
}
